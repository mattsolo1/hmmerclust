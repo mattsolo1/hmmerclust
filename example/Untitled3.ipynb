{
 "cells": [
  {
   "cell_type": "code",
   "execution_count": 1,
   "metadata": {
    "collapsed": false
   },
   "outputs": [
    {
     "name": "stderr",
     "output_type": "stream",
     "text": [
      "/Users/matt/.virtualenvs/hmmerclust_dev4/lib/python2.7/site-packages/Bio/SearchIO/__init__.py:211: BiopythonExperimentalWarning: Bio.SearchIO is an experimental submodule which may undergo significant changes prior to its future official release.\n",
      "  BiopythonExperimentalWarning)\n"
     ]
    },
    {
     "name": "stdout",
     "output_type": "stream",
     "text": [
      "making combined fasta for NC_000117.gb\n",
      "887 proteins were added\n",
      "887 unique proteins were added -- dropping redundant ones\n",
      "making combined fasta for NC_000853.gb\n",
      "2745 proteins were added\n",
      "2745 unique proteins were added -- dropping redundant ones\n",
      "making combined fasta for NC_000854.gb\n",
      "4445 proteins were added\n",
      "4445 unique proteins were added -- dropping redundant ones\n",
      "making combined fasta for NC_000868.gb\n",
      "6223 proteins were added\n",
      "6223 unique proteins were added -- dropping redundant ones\n",
      "making combined fasta for NC_000907.gb\n",
      "7833 proteins were added\n",
      "7833 unique proteins were added -- dropping redundant ones\n",
      "making combined fasta for NC_000908.gb\n",
      "8342 proteins were added\n",
      "8342 unique proteins were added -- dropping redundant ones\n",
      "making combined fasta for NC_000909.gb\n",
      "10056 proteins were added\n",
      "10056 unique proteins were added -- dropping redundant ones\n",
      "making combined fasta for NC_000911.gb\n",
      "13235 proteins were added\n",
      "13235 unique proteins were added -- dropping redundant ones\n",
      "making combined fasta for NC_000912.gb\n",
      "13926 proteins were added\n",
      "13926 unique proteins were added -- dropping redundant ones\n",
      "making combined fasta for NC_000915.gb\n",
      "15371 proteins were added\n",
      "15371 unique proteins were added -- dropping redundant ones\n",
      "making combined fasta for NC_000916.gb\n",
      "17244 proteins were added\n",
      "17244 unique proteins were added -- dropping redundant ones\n",
      "making combined fasta for NC_000917.gb\n",
      "19664 proteins were added\n",
      "19664 unique proteins were added -- dropping redundant ones\n",
      "making combined fasta for NC_000918.gb\n",
      "21161 proteins were added\n",
      "21161 unique proteins were added -- dropping redundant ones\n",
      "making combined fasta for NC_000919.gb\n",
      "22138 proteins were added\n",
      "22137 unique proteins were added -- dropping redundant ones\n",
      "making combined fasta for NC_000922.gb\n",
      "23167 proteins were added\n",
      "23166 unique proteins were added -- dropping redundant ones\n",
      "making combined fasta for NC_000961.gb\n",
      "25117 proteins were added\n",
      "25116 unique proteins were added -- dropping redundant ones\n",
      "making combined fasta for NC_000962.gb\n",
      "29023 proteins were added\n",
      "29022 unique proteins were added -- dropping redundant ones\n",
      "making combined fasta for NC_000963.gb\n",
      "29866 proteins were added\n",
      "29865 unique proteins were added -- dropping redundant ones\n",
      "making combined fasta for NC_000964.gb\n",
      "34041 proteins were added\n",
      "34040 unique proteins were added -- dropping redundant ones\n",
      "making combined fasta for NC_001263.gb\n",
      "36670 proteins were added\n",
      "36669 unique proteins were added -- dropping redundant ones\n",
      "Adding organism attributes for NC_000117.gb\n",
      "Adding organism attributes for NC_000853.gb\n",
      "Unable to parse taxonomy for NC_000853\n",
      "Adding organism attributes for NC_000854.gb\n",
      "Adding organism attributes for NC_000868.gb\n",
      "Adding organism attributes for NC_000907.gb\n",
      "Adding organism attributes for NC_000908.gb\n",
      "Unable to parse taxonomy for NC_000908\n",
      "Adding organism attributes for NC_000909.gb\n",
      "Adding organism attributes for NC_000911.gb\n",
      "Unable to parse taxonomy for NC_000911\n",
      "Adding organism attributes for NC_000912.gb\n",
      "Unable to parse taxonomy for NC_000912\n",
      "Adding organism attributes for NC_000915.gb\n",
      "Adding organism attributes for NC_000916.gb\n",
      "Adding organism attributes for NC_000917.gb\n",
      "Adding organism attributes for NC_000918.gb\n",
      "Unable to parse taxonomy for NC_000918\n",
      "Adding organism attributes for NC_000919.gb\n",
      "Unable to parse taxonomy for NC_000919\n",
      "Adding organism attributes for NC_000922.gb\n",
      "Adding organism attributes for NC_000961.gb\n",
      "Adding organism attributes for NC_000962.gb\n",
      "Adding organism attributes for NC_000963.gb\n",
      "Adding organism attributes for NC_000964.gb\n",
      "Adding organism attributes for NC_001263.gb\n"
     ]
    }
   ],
   "source": [
    "from hmmerclust import hmmerclust\n",
    "import settings\n",
    "reload(hmmerclust)\n",
    "\n",
    "genome_list = !ls genomes/\n",
    "genome_dir = './genomes/'\n",
    "#combined_fasta = '../150413-full-seach-again/combined.fasta'\n",
    "\n",
    "genome_subset = genome_list[:20]\n",
    "\n",
    "db = hmmerclust.OrganismDB('database', genome_subset, genome_dir, freshfasta=True)"
   ]
  },
  {
   "cell_type": "code",
   "execution_count": 2,
   "metadata": {
    "collapsed": false,
    "scrolled": false
   },
   "outputs": [
    {
     "name": "stdout",
     "output_type": "stream",
     "text": [
      "building Hmm for FlgH_PF02107_seed.txt\n",
      "building Hmm for InvA_PF00771_seed.txt\n",
      "building Hmm for InvC_PF00006_seed.txt\n",
      "building Hmm for InvE_PF07201_seed.txt\n",
      "building Hmm for InvG_PF00263_seed.txt\n",
      "building Hmm for InvH_PF04741_seed.txt\n",
      "building Hmm for InvJ_PF02510_seed.txt\n",
      "building Hmm for OrgA_PF09482_seed.txt\n",
      "building Hmm for OrgB_PB004806.txt\n",
      "building Hmm for PrgH_PF09480_seed.txt\n",
      "building Hmm for PrgI_PF09392_seed.txt\n",
      "building Hmm for PrgJ_PB000379.txt\n",
      "building Hmm for PrgK_PF01514_seed.txt\n",
      "building Hmm for SipB_PF04888_seed.txt\n",
      "building Hmm for SipC_PF09599_seed.txt\n",
      "building Hmm for SipD_PF06511_seed.txt\n",
      "building Hmm for SpaO_PF01052_seed.txt\n",
      "building Hmm for SpaP_PF00813_seed.txt\n",
      "building Hmm for SpaQ_PF01313_seed.txt\n",
      "building Hmm for SpaR_PF01311_seed.txt\n",
      "building Hmm for SpaS_PF01312_seed.txt\n",
      "hhbuild complete for ['FlgH', 'InvA', 'InvC', 'InvE', 'InvG', 'InvH', 'InvJ', 'OrgA', 'OrgB', 'PrgH', 'PrgI', 'PrgJ', 'PrgK', 'SipB', 'SipC', 'SipD', 'SpaO', 'SpaP', 'SpaQ', 'SpaR', 'SpaS']\n",
      "running HHsearch on FlgH\n",
      "running HHsearch on InvA\n",
      "running HHsearch on InvC\n",
      "running HHsearch on InvE\n",
      "running HHsearch on InvG\n",
      "running HHsearch on InvH\n",
      "running HHsearch on InvJ\n",
      "running HHsearch on OrgA\n",
      "running HHsearch on OrgB\n",
      "running HHsearch on PrgH\n",
      "running HHsearch on PrgI\n",
      "running HHsearch on PrgJ\n",
      "running HHsearch on PrgK\n",
      "running HHsearch on SipB\n",
      "running HHsearch on SipC\n",
      "running HHsearch on SipD\n",
      "running HHsearch on SpaO\n",
      "running HHsearch on SpaP\n",
      "running HHsearch on SpaQ\n",
      "running HHsearch on SpaR\n",
      "running HHsearch on SpaS\n",
      "extracted 4 hits for FlgH.out\n",
      "extracted 11 hits for InvA.out\n",
      "extracted 252 hits for InvC.out\n",
      "extracted 6 hits for InvE.out\n",
      "extracted 13 hits for InvG.out\n",
      "extracted 0 hits for InvH.out\n",
      "extracted 0 hits for InvJ.out\n",
      "extracted 0 hits for OrgA.out\n",
      "extracted 0 hits for OrgB.out\n",
      "extracted 2 hits for PrgH.out\n",
      "extracted 0 hits for PrgI.out\n",
      "extracted 8 hits for PrgJ.out\n",
      "extracted 16 hits for PrgK.out\n",
      "extracted 14 hits for SipB.out\n",
      "extracted 0 hits for SipC.out\n",
      "extracted 1 hits for SipD.out\n",
      "extracted 17 hits for SpaO.out\n",
      "extracted 7 hits for SpaP.out\n",
      "extracted 10 hits for SpaQ.out\n",
      "extracted 7 hits for SpaR.out\n",
      "extracted 13 hits for SpaS.out\n",
      "adding proteins to organism NC_000117\n",
      "adding proteins to organism NC_000853\n",
      "adding proteins to organism NC_000854\n",
      "adding proteins to organism NC_000868\n",
      "adding proteins to organism NC_000907\n",
      "adding proteins to organism NC_000908\n",
      "adding proteins to organism NC_000909\n",
      "adding proteins to organism NC_000911\n",
      "adding proteins to organism NC_000912\n",
      "adding proteins to organism NC_000915\n",
      "adding proteins to organism NC_000916\n",
      "adding proteins to organism NC_000917\n",
      "adding proteins to organism NC_000918\n",
      "adding proteins to organism NC_000919\n",
      "adding proteins to organism NC_000922\n",
      "adding proteins to organism NC_000961\n",
      "adding proteins to organism NC_000962\n",
      "adding proteins to organism NC_000963\n",
      "adding proteins to organism NC_000964\n",
      "adding proteins to organism NC_001263\n",
      "adding SearchIO hit objects for NC_000117\n",
      "adding SearchIO hit objects for NC_000853\n",
      "adding SearchIO hit objects for NC_000854\n",
      "adding SearchIO hit objects for NC_000868\n",
      "adding SearchIO hit objects for NC_000907\n",
      "adding SearchIO hit objects for NC_000908\n",
      "adding SearchIO hit objects for NC_000909\n",
      "adding SearchIO hit objects for NC_000911\n",
      "adding SearchIO hit objects for NC_000912\n",
      "adding SearchIO hit objects for NC_000915\n",
      "adding SearchIO hit objects for NC_000916\n",
      "adding SearchIO hit objects for NC_000917\n",
      "adding SearchIO hit objects for NC_000918\n",
      "adding SearchIO hit objects for NC_000919\n",
      "adding SearchIO hit objects for NC_000922\n",
      "adding SearchIO hit objects for NC_000961\n",
      "adding SearchIO hit objects for NC_000962\n",
      "adding SearchIO hit objects for NC_000963\n",
      "adding SearchIO hit objects for NC_000964\n",
      "adding SearchIO hit objects for NC_001263\n",
      "setting best hit values for Chlamydia trachomatis D/UW-3/CX\n",
      "setting best hit values for Thermotoga maritima MSB8\n",
      "setting best hit values for Aeropyrum pernix K1\n",
      "setting best hit values for Pyrococcus abyssi GE5\n",
      "setting best hit values for Haemophilus influenzae Rd KW20\n",
      "setting best hit values for Mycoplasma genitalium G37\n",
      "setting best hit values for Methanocaldococcus jannaschii DSM 2661\n",
      "setting best hit values for Synechocystis sp. PCC 6803\n",
      "setting best hit values for Mycoplasma pneumoniae M129\n",
      "setting best hit values for Helicobacter pylori 26695\n",
      "setting best hit values for Methanothermobacter thermautotrophicus str. Delta H (Methanobacterium thermoautotrophicum str. deltaH)\n",
      "setting best hit values for Archaeoglobus fulgidus DSM 4304\n",
      "setting best hit values for Aquifex aeolicus VF5\n",
      "setting best hit values for Treponema pallidum subsp. pallidum str. Nichols\n",
      "setting best hit values for Chlamydophila pneumoniae CWL029\n",
      "setting best hit values for Pyrococcus horikoshii OT3\n",
      "setting best hit values for Mycobacterium tuberculosis H37Rv\n",
      "setting best hit values for Rickettsia prowazekii str. Madrid E\n",
      "setting best hit values for Bacillus subtilis subsp. subtilis str. 168\n",
      "setting best hit values for Deinococcus radiodurans R1\n"
     ]
    }
   ],
   "source": [
    "combined_fasta = './combined_fasta'\n",
    "s = hmmerclust.HmmSearch(db, combined_fasta, freshbuild=True, freshsearch=True, aln_extension='.txt')"
   ]
  },
  {
   "cell_type": "code",
   "execution_count": 3,
   "metadata": {
    "collapsed": false
   },
   "outputs": [
    {
     "name": "stdout",
     "output_type": "stream",
     "text": [
      "finding loci for Chlamydia trachomatis D/UW-3/CX\n",
      "total of 1 found for Chlamydia trachomatis D/UW-3/CX\n",
      "finding loci for Thermotoga maritima MSB8\n",
      "total of 0 found for Thermotoga maritima MSB8\n",
      "finding loci for Aeropyrum pernix K1\n",
      "total of 0 found for Aeropyrum pernix K1\n",
      "finding loci for Pyrococcus abyssi GE5\n",
      "total of 0 found for Pyrococcus abyssi GE5\n",
      "finding loci for Haemophilus influenzae Rd KW20\n",
      "total of 0 found for Haemophilus influenzae Rd KW20\n",
      "finding loci for Mycoplasma genitalium G37\n",
      "total of 0 found for Mycoplasma genitalium G37\n",
      "finding loci for Methanocaldococcus jannaschii DSM 2661\n",
      "total of 0 found for Methanocaldococcus jannaschii DSM 2661\n",
      "finding loci for Synechocystis sp. PCC 6803\n",
      "total of 0 found for Synechocystis sp. PCC 6803\n",
      "finding loci for Mycoplasma pneumoniae M129\n",
      "total of 0 found for Mycoplasma pneumoniae M129\n",
      "finding loci for Helicobacter pylori 26695\n",
      "total of 0 found for Helicobacter pylori 26695\n",
      "finding loci for Methanothermobacter thermautotrophicus str. Delta H (Methanobacterium thermoautotrophicum str. deltaH)\n",
      "total of 0 found for Methanothermobacter thermautotrophicus str. Delta H (Methanobacterium thermoautotrophicum str. deltaH)\n",
      "finding loci for Archaeoglobus fulgidus DSM 4304\n",
      "total of 0 found for Archaeoglobus fulgidus DSM 4304\n",
      "finding loci for Aquifex aeolicus VF5\n",
      "total of 0 found for Aquifex aeolicus VF5\n",
      "finding loci for Treponema pallidum subsp. pallidum str. Nichols\n",
      "total of 1 found for Treponema pallidum subsp. pallidum str. Nichols\n",
      "finding loci for Chlamydophila pneumoniae CWL029\n",
      "total of 1 found for Chlamydophila pneumoniae CWL029\n",
      "finding loci for Pyrococcus horikoshii OT3\n",
      "total of 0 found for Pyrococcus horikoshii OT3\n",
      "finding loci for Mycobacterium tuberculosis H37Rv\n",
      "total of 0 found for Mycobacterium tuberculosis H37Rv\n",
      "finding loci for Rickettsia prowazekii str. Madrid E\n",
      "total of 0 found for Rickettsia prowazekii str. Madrid E\n",
      "finding loci for Bacillus subtilis subsp. subtilis str. 168\n",
      "total of 1 found for Bacillus subtilis subsp. subtilis str. 168\n",
      "finding loci for Deinococcus radiodurans R1\n",
      "total of 0 found for Deinococcus radiodurans R1\n"
     ]
    }
   ],
   "source": [
    "import settings\n",
    "db.find_loci(5, 15000)"
   ]
  },
  {
   "cell_type": "code",
   "execution_count": 4,
   "metadata": {
    "collapsed": false,
    "scrolled": false
   },
   "outputs": [],
   "source": [
    "%matplotlib inline"
   ]
  },
  {
   "cell_type": "code",
   "execution_count": 12,
   "metadata": {
    "collapsed": false
   },
   "outputs": [
    {
     "data": {
      "application/json": {
       "cell": {
        "!": "OSMagics",
        "HTML": "Other",
        "SVG": "Other",
        "bash": "Other",
        "capture": "ExecutionMagics",
        "debug": "ExecutionMagics",
        "file": "Other",
        "html": "DisplayMagics",
        "javascript": "DisplayMagics",
        "latex": "DisplayMagics",
        "perl": "Other",
        "prun": "ExecutionMagics",
        "pypy": "Other",
        "python": "Other",
        "python2": "Other",
        "python3": "Other",
        "ruby": "Other",
        "script": "ScriptMagics",
        "sh": "Other",
        "svg": "DisplayMagics",
        "sx": "OSMagics",
        "system": "OSMagics",
        "time": "ExecutionMagics",
        "timeit": "ExecutionMagics",
        "writefile": "OSMagics"
       },
       "line": {
        "alias": "OSMagics",
        "alias_magic": "BasicMagics",
        "autocall": "AutoMagics",
        "automagic": "AutoMagics",
        "autosave": "KernelMagics",
        "bookmark": "OSMagics",
        "cat": "Other",
        "cd": "OSMagics",
        "clear": "KernelMagics",
        "colors": "BasicMagics",
        "config": "ConfigMagics",
        "connect_info": "KernelMagics",
        "cp": "Other",
        "debug": "ExecutionMagics",
        "dhist": "OSMagics",
        "dirs": "OSMagics",
        "doctest_mode": "BasicMagics",
        "ed": "Other",
        "edit": "KernelMagics",
        "env": "OSMagics",
        "gui": "BasicMagics",
        "hist": "Other",
        "history": "HistoryMagics",
        "install_default_config": "DeprecatedMagics",
        "install_ext": "ExtensionMagics",
        "install_profiles": "DeprecatedMagics",
        "killbgscripts": "ScriptMagics",
        "ldir": "Other",
        "less": "KernelMagics",
        "lf": "Other",
        "lk": "Other",
        "ll": "Other",
        "load": "CodeMagics",
        "load_ext": "ExtensionMagics",
        "loadpy": "CodeMagics",
        "logoff": "LoggingMagics",
        "logon": "LoggingMagics",
        "logstart": "LoggingMagics",
        "logstate": "LoggingMagics",
        "logstop": "LoggingMagics",
        "ls": "Other",
        "lsmagic": "BasicMagics",
        "lx": "Other",
        "macro": "ExecutionMagics",
        "magic": "BasicMagics",
        "man": "KernelMagics",
        "matplotlib": "PylabMagics",
        "mkdir": "Other",
        "more": "KernelMagics",
        "mv": "Other",
        "notebook": "BasicMagics",
        "page": "BasicMagics",
        "pastebin": "CodeMagics",
        "pdb": "ExecutionMagics",
        "pdef": "NamespaceMagics",
        "pdoc": "NamespaceMagics",
        "pfile": "NamespaceMagics",
        "pinfo": "NamespaceMagics",
        "pinfo2": "NamespaceMagics",
        "popd": "OSMagics",
        "pprint": "BasicMagics",
        "precision": "BasicMagics",
        "profile": "BasicMagics",
        "prun": "ExecutionMagics",
        "psearch": "NamespaceMagics",
        "psource": "NamespaceMagics",
        "pushd": "OSMagics",
        "pwd": "OSMagics",
        "pycat": "OSMagics",
        "pylab": "PylabMagics",
        "qtconsole": "KernelMagics",
        "quickref": "BasicMagics",
        "recall": "HistoryMagics",
        "rehashx": "OSMagics",
        "reload_ext": "ExtensionMagics",
        "rep": "Other",
        "rerun": "HistoryMagics",
        "reset": "NamespaceMagics",
        "reset_selective": "NamespaceMagics",
        "rm": "Other",
        "rmdir": "Other",
        "run": "ExecutionMagics",
        "save": "CodeMagics",
        "sc": "OSMagics",
        "set_env": "OSMagics",
        "store": "StoreMagics",
        "sx": "OSMagics",
        "system": "OSMagics",
        "tb": "ExecutionMagics",
        "time": "ExecutionMagics",
        "timeit": "ExecutionMagics",
        "unalias": "OSMagics",
        "unload_ext": "ExtensionMagics",
        "who": "NamespaceMagics",
        "who_ls": "NamespaceMagics",
        "whos": "NamespaceMagics",
        "xdel": "NamespaceMagics",
        "xmode": "BasicMagics"
       }
      },
      "text/plain": [
       "Available line magics:\n",
       "%alias  %alias_magic  %autocall  %automagic  %autosave  %bookmark  %cat  %cd  %clear  %colors  %config  %connect_info  %cp  %debug  %dhist  %dirs  %doctest_mode  %ed  %edit  %env  %gui  %hist  %history  %install_default_config  %install_ext  %install_profiles  %killbgscripts  %ldir  %less  %lf  %lk  %ll  %load  %load_ext  %loadpy  %logoff  %logon  %logstart  %logstate  %logstop  %ls  %lsmagic  %lx  %macro  %magic  %man  %matplotlib  %mkdir  %more  %mv  %notebook  %page  %pastebin  %pdb  %pdef  %pdoc  %pfile  %pinfo  %pinfo2  %popd  %pprint  %precision  %profile  %prun  %psearch  %psource  %pushd  %pwd  %pycat  %pylab  %qtconsole  %quickref  %recall  %rehashx  %reload_ext  %rep  %rerun  %reset  %reset_selective  %rm  %rmdir  %run  %save  %sc  %set_env  %store  %sx  %system  %tb  %time  %timeit  %unalias  %unload_ext  %who  %who_ls  %whos  %xdel  %xmode\n",
       "\n",
       "Available cell magics:\n",
       "%%!  %%HTML  %%SVG  %%bash  %%capture  %%debug  %%file  %%html  %%javascript  %%latex  %%perl  %%prun  %%pypy  %%python  %%python2  %%python3  %%ruby  %%script  %%sh  %%svg  %%sx  %%system  %%time  %%timeit  %%writefile\n",
       "\n",
       "Automagic is ON, % prefix IS NOT needed for line magics."
      ]
     },
     "execution_count": 12,
     "metadata": {},
     "output_type": "execute_result"
    }
   ],
   "source": [
    "%lsmagic"
   ]
  },
  {
   "cell_type": "code",
   "execution_count": 13,
   "metadata": {
    "collapsed": false
   },
   "outputs": [
    {
     "name": "stdout",
     "output_type": "stream",
     "text": [
      "Using matplotlib backend: MacOSX\n",
      "Populating the interactive namespace from numpy and matplotlib\n"
     ]
    }
   ],
   "source": [
    "%pylab"
   ]
  },
  {
   "cell_type": "code",
   "execution_count": 31,
   "metadata": {
    "collapsed": true
   },
   "outputs": [],
   "source": [
    "figsize(20,10)"
   ]
  },
  {
   "cell_type": "code",
   "execution_count": 27,
   "metadata": {
    "collapsed": true
   },
   "outputs": [],
   "source": [
    "%matplotlib inline"
   ]
  },
  {
   "cell_type": "code",
   "execution_count": 32,
   "metadata": {
    "collapsed": false,
    "scrolled": false
   },
   "outputs": [
    {
     "name": "stdout",
     "output_type": "stream",
     "text": [
      "\n",
      "\n",
      "---------------------------------------------------------------------- \n",
      "----------------------------------------------------------------------\n",
      "Organism:  Chlamydia trachomatis D/UW-3/CX\n",
      "Locus id: 4339900000\n"
     ]
    },
    {
     "data": {
      "image/png": "[encoded data removed]",
      "text/plain": [
       "<matplotlib.figure.Figure at 0x107cde2d0>"
      ]
     },
     "metadata": {},
     "output_type": "display_data"
    },
    {
     "name": "stdout",
     "output_type": "stream",
     "text": [
      "      accession query   evalue bitscore  bias                    name\n",
      "0   NP_220074.1  PrgK  1.7e-39    136.4     0  type III secretion sys\n",
      "1   NP_220075.1     -        -        -     -    hypothetical protein\n",
      "2   NP_220076.1     -        -        -     -  type III secretion sys\n",
      "3   NP_220077.1  SpaP  3.8e-65    220.5  13.9  type III secretion sys\n",
      "4   NP_220078.1  SpaQ  3.3e-25     88.8   9.8  type III secretion sys\n",
      "5   NP_220079.1  SpaR  4.3e-36    125.7  24.1  type III secretion sys\n",
      "6   NP_220080.1     -        -        -     -    hypothetical protein\n",
      "7   NP_220081.1     -        -        -     -    hypothetical protein\n",
      "8   NP_220082.1     -        -        -     -    hypothetical protein\n",
      "9   NP_220083.1     -        -        -     -    hypothetical protein\n",
      "10  NP_220084.1     -        -        -     -  outer membrane protein\n",
      "11  NP_220085.1     -        -        -     -  type II secretion syst\n",
      "12  NP_220086.1     -        -        -     -  type II secretion syst\n",
      "13  NP_220087.1  InvG    1e-35    123.8   0.2  type II secretion syst\n",
      "14  NP_220088.1     -        -        -     -    hypothetical protein\n",
      "15  NP_220089.1     -        -        -     -        aminopeptidase P\n",
      "16  NP_220090.1     -        -        -     -  DNA mismatch repair pr\n",
      "17  NP_220091.1     -        -        -     -  low calcium response p\n",
      "18  NP_220092.1     -        -        -     -    hypothetical protein\n",
      "19  NP_220093.1  SipB  1.5e-18     68.4  62.5    hypothetical protein\n",
      "20  NP_220094.1  SipB  3.7e-40    139.4  53.1    hypothetical protein\n",
      "\n",
      "\n",
      "---------------------------------------------------------------------- \n",
      "----------------------------------------------------------------------\n",
      "Organism:  Treponema pallidum subsp. pallidum str. Nichols\n",
      "Locus id: 4410478176\n"
     ]
    },
    {
     "data": {
      "image/png": "[encoded data removed]",
      "text/plain": [
       "<matplotlib.figure.Figure at 0x107864910>"
      ]
     },
     "metadata": {},
     "output_type": "display_data"
    },
    {
     "name": "stdout",
     "output_type": "stream",
     "text": [
      "        accession query    evalue bitscore  bias                    name\n",
      "0  WP_010882159.1  InvA  1.7e-226    754.9  10.3  flagellar biosynthesis\n",
      "1  WP_010882160.1  SpaS  2.2e-121    406.2   1.4  flagellar biosynthetic\n",
      "2  WP_010882161.1  SpaR   5.4e-71      240  35.1  flagellar biosynthetic\n",
      "3  WP_013945321.1  SpaQ   3.6e-26     91.9  10.9  flagellar biosynthesis\n",
      "4  WP_010882163.1  SpaP   6.7e-72    242.5  14.7  flagellar biosynthetic\n",
      "5  WP_010882164.1     -         -        -     -  flagellar biogenesis p\n",
      "6  WP_010882165.1  SpaO   4.9e-21     75.3   0.9  flagellar motor switch\n",
      "7  WP_010882166.1  SpaO   1.4e-18     67.4   0.3  flagellar motor switch\n",
      "\n",
      "\n",
      "---------------------------------------------------------------------- \n",
      "----------------------------------------------------------------------\n",
      "Organism:  Chlamydophila pneumoniae CWL029\n",
      "Locus id: 4404527976\n"
     ]
    },
    {
     "data": {
      "image/png": "[encoded data removed]",
      "text/plain": [
       "<matplotlib.figure.Figure at 0x106c2c190>"
      ]
     },
     "metadata": {},
     "output_type": "display_data"
    },
    {
     "name": "stdout",
     "output_type": "stream",
     "text": [
      "      accession query   evalue bitscore  bias                    name\n",
      "0   NP_225003.1  SipB  1.7e-27     97.8   8.8    hypothetical protein\n",
      "1   NP_225004.1  SipB    9e-30    105.3  66.1    hypothetical protein\n",
      "2   NP_225005.1     -        -        -     -    hypothetical protein\n",
      "3   NP_225006.1     -        -        -     -  low calcium response p\n",
      "4   NP_225007.1     -        -        -     -  DNA mismatch repair pr\n",
      "5   NP_225008.1     -        -        -     -          aminopeptidase\n",
      "6   NP_225009.1     -        -        -     -    hypothetical protein\n",
      "7   NP_225010.1  InvG    2e-36    126.1   0.1  general secretion prot\n",
      "8   NP_225011.1     -        -        -     -  general secretion prot\n",
      "9   NP_225012.1     -        -        -     -  general secretion prot\n",
      "10  NP_225013.1     -        -        -     -  outer membrane protein\n",
      "11  NP_225014.1     -        -        -     -    hypothetical protein\n",
      "12  NP_225015.1     -        -        -     -    hypothetical protein\n",
      "13  NP_225016.1     -        -        -     -    hypothetical protein\n",
      "14  NP_225017.1     -        -        -     -    hypothetical protein\n",
      "15  NP_225018.1  SpaR  4.5e-33    115.8  25.2  type III secretion sys\n",
      "16  NP_225019.1  SpaQ  1.3e-24     86.9   8.7  type III secretion sys\n",
      "17  NP_225020.1  SpaP  4.6e-65    220.2  15.7  type III secretion sys\n",
      "18  NP_225021.1     -        -        -     -  type III secretion sys\n",
      "19  NP_225022.1     -        -        -     -    hypothetical protein\n",
      "20  NP_225023.1  PrgK  2.3e-37    129.4   0.2  type III secretion sys\n",
      "\n",
      "\n",
      "---------------------------------------------------------------------- \n",
      "----------------------------------------------------------------------\n",
      "Organism:  Bacillus subtilis subsp. subtilis str. 168\n",
      "Locus id: 4435598584\n"
     ]
    },
    {
     "data": {
      "image/png": "[encoded data removed]",
      "text/plain": [
       "<matplotlib.figure.Figure at 0x1073228d0>"
      ]
     },
     "metadata": {},
     "output_type": "display_data"
    },
    {
     "name": "stdout",
     "output_type": "stream",
     "text": [
      "         accession query    evalue bitscore  bias                    name\n",
      "0      NP_389490.1  SpaS   4.6e-17     63.2   0.2    hypothetical protein\n",
      "1      NP_389491.1     -         -        -     -  succinyl-CoA ligase [A\n",
      "2      NP_389492.1     -         -        -     -  succinyl-CoA ligase [A\n",
      "3      NP_389493.1     -         -        -     -             protein smf\n",
      "4      NP_389494.1     -         -        -     -     DNA topoisomerase 1\n",
      "5      NP_389495.1     -         -        -     -  methylenetetrahydrofol\n",
      "6      NP_389496.1     -         -        -     -  tyrosine recombinase X\n",
      "7      NP_389497.1     -         -        -     -  ATP-dependent protease\n",
      "8      NP_389498.1     -         -        -     -  ATP-dependent protease\n",
      "9      NP_389499.1     -         -        -     -  GTP-sensing transcript\n",
      "10     NP_389500.1     -         -        -     -  flagellar basal body r\n",
      "11     NP_389501.1     -         -        -     -  flagellar basal-body r\n",
      "12     NP_389502.1     -         -        -     -  flagellar hook-basal b\n",
      "13     NP_389503.1  PrgK   2.1e-59    201.4   1.9  flagellar M-ring prote\n",
      "14     NP_389504.1     -         -        -     -  flagellar motor switch\n",
      "15     NP_389505.2     -         -        -     -  flagellar assembly pro\n",
      "16     NP_389506.2  InvC   1.7e-73    247.9   0.1  flagellum-specific ATP\n",
      "17     NP_389507.1     -         -        -     -  flagellar FliJ protein\n",
      "18     NP_389508.2     -         -        -     -  FlaA locus 22.9 kDa pr\n",
      "19     NP_389509.2     -         -        -     -  flagellar hook-length \n",
      "20     NP_389510.1     -         -        -     -  FlaA locus hypothetica\n",
      "21     NP_389511.2     -         -        -     -  flagellar basal-body r\n",
      "22  YP_003097728.1     -         -        -     -    hypothetical protein\n",
      "23     NP_389512.1     -         -        -     -  flagellar protein FliL\n",
      "24     NP_389513.1  SpaO   3.9e-20     72.4   0.2  flagellar motor switch\n",
      "25     NP_389514.1  SpaO   1.1e-20     74.2   1.7  flagellar motor switch\n",
      "26     NP_389515.1     -         -        -     -  chemotaxis protein Che\n",
      "27     NP_389516.1     -         -        -     -  flagellar biosynthetic\n",
      "28     NP_389517.1  SpaP   4.6e-83    278.9  18.4  flagellar biosynthetic\n",
      "29     NP_389518.1  SpaQ   2.7e-31    108.3    11  flagellar biosynthetic\n",
      "30     NP_389519.2  SpaR     3e-82    276.9  25.9  flagellar biosynthetic\n",
      "31     NP_389520.1  SpaS  4.1e-136    454.6   6.7  flagellar biosynthetic\n",
      "32     NP_389521.2  InvA  7.7e-266    884.9   9.8  flagellar biosynthesis\n"
     ]
    }
   ],
   "source": [
    "for org in db.organisms:\n",
    "    for locus in org.loci:\n",
    "        hmmerclust.LocusView(locus)"
   ]
  },
  {
   "cell_type": "code",
   "execution_count": 33,
   "metadata": {
    "collapsed": false
   },
   "outputs": [
    {
     "name": "stdout",
     "output_type": "stream",
     "text": [
      "Int64Index([  0,   1,   2,   3,   4,   5,   6,   7,   8,   9, \n",
      "            ...\n",
      "            370, 371, 372, 373, 374, 375, 376, 377, 378, 379],\n",
      "           dtype='int64', length=380)\n"
     ]
    }
   ],
   "source": [
    "df = hmmerclust.FinalDataFrame(db)"
   ]
  },
  {
   "cell_type": "code",
   "execution_count": 34,
   "metadata": {
    "collapsed": false
   },
   "outputs": [
    {
     "data": {
      "text/html": [
       "<div style=\"max-height:1000px;max-width:1500px;overflow:auto;\">\n",
       "<table border=\"1\" class=\"dataframe\">\n",
       "  <thead>\n",
       "    <tr style=\"text-align: right;\">\n",
       "      <th></th>\n",
       "      <th>org_name</th>\n",
       "      <th>org_acc</th>\n",
       "      <th>org_phylum</th>\n",
       "      <th>org_class</th>\n",
       "      <th>org_order</th>\n",
       "      <th>org_family</th>\n",
       "      <th>org_genus</th>\n",
       "      <th>org_species</th>\n",
       "      <th>org_tree_order</th>\n",
       "      <th>org_genome_length</th>\n",
       "      <th>...</th>\n",
       "      <th>prot_acc</th>\n",
       "      <th>prot_gi</th>\n",
       "      <th>prot_product</th>\n",
       "      <th>prot_translation</th>\n",
       "      <th>prot_numb_of_res</th>\n",
       "      <th>hit_query</th>\n",
       "      <th>hit_evalue</th>\n",
       "      <th>hit_bitscore</th>\n",
       "      <th>hit_bias</th>\n",
       "      <th>locus_id</th>\n",
       "    </tr>\n",
       "  </thead>\n",
       "  <tbody>\n",
       "    <tr>\n",
       "      <th>0</th>\n",
       "      <td>Chlamydia trachomatis D/UW-3/CX</td>\n",
       "      <td>NC_000117</td>\n",
       "      <td>Chlamydiae</td>\n",
       "      <td>Chlamydiales</td>\n",
       "      <td>Chlamydiaceae</td>\n",
       "      <td>Chlamydia/Chlamydophila group</td>\n",
       "      <td>Chlamydia</td>\n",
       "      <td>Chlamydia trachomatis</td>\n",
       "      <td>0</td>\n",
       "      <td>1042519</td>\n",
       "      <td>...</td>\n",
       "      <td>NP_220079.1</td>\n",
       "      <td>15605293</td>\n",
       "      <td>type III secretion system protein YscT</td>\n",
       "      <td>MATLPEVLSGLGSSYIDYIFQKPADYVWTVFLLLAARILSMLSIIP...</td>\n",
       "      <td>289</td>\n",
       "      <td>SpaR</td>\n",
       "      <td>4.300000e-36</td>\n",
       "      <td>125.7</td>\n",
       "      <td>24.1</td>\n",
       "      <td>&lt;hmmerclust.hmmerclust.Locus instance at 0x102...</td>\n",
       "    </tr>\n",
       "    <tr>\n",
       "      <th>1</th>\n",
       "      <td>Chlamydia trachomatis D/UW-3/CX</td>\n",
       "      <td>NC_000117</td>\n",
       "      <td>Chlamydiae</td>\n",
       "      <td>Chlamydiales</td>\n",
       "      <td>Chlamydiaceae</td>\n",
       "      <td>Chlamydia/Chlamydophila group</td>\n",
       "      <td>Chlamydia</td>\n",
       "      <td>Chlamydia trachomatis</td>\n",
       "      <td>0</td>\n",
       "      <td>1042519</td>\n",
       "      <td>...</td>\n",
       "      <td>NP_220236.1</td>\n",
       "      <td>15605450</td>\n",
       "      <td>type III secretion system ATP synthase</td>\n",
       "      <td>MTHLQEETLLIHQWRPYRECGILSRISGSLLEAQGLSACLGELCQI...</td>\n",
       "      <td>434</td>\n",
       "      <td>InvC</td>\n",
       "      <td>1.400000e-53</td>\n",
       "      <td>182.9</td>\n",
       "      <td>0.1</td>\n",
       "      <td>None</td>\n",
       "    </tr>\n",
       "    <tr>\n",
       "      <th>2</th>\n",
       "      <td>Chlamydia trachomatis D/UW-3/CX</td>\n",
       "      <td>NC_000117</td>\n",
       "      <td>Chlamydiae</td>\n",
       "      <td>Chlamydiales</td>\n",
       "      <td>Chlamydiaceae</td>\n",
       "      <td>Chlamydia/Chlamydophila group</td>\n",
       "      <td>Chlamydia</td>\n",
       "      <td>Chlamydia trachomatis</td>\n",
       "      <td>0</td>\n",
       "      <td>1042519</td>\n",
       "      <td>...</td>\n",
       "      <td>NP_220005.1</td>\n",
       "      <td>15605219</td>\n",
       "      <td>transcription termination factor</td>\n",
       "      <td>MKEESPAEVLQKVKEHKRREGPLSLEKEVSEDSAVATEEKETSQPV...</td>\n",
       "      <td>464</td>\n",
       "      <td>InvC</td>\n",
       "      <td>4.200000e-44</td>\n",
       "      <td>151.8</td>\n",
       "      <td>0.0</td>\n",
       "      <td>None</td>\n",
       "    </tr>\n",
       "    <tr>\n",
       "      <th>3</th>\n",
       "      <td>Chlamydia trachomatis D/UW-3/CX</td>\n",
       "      <td>NC_000117</td>\n",
       "      <td>Chlamydiae</td>\n",
       "      <td>Chlamydiales</td>\n",
       "      <td>Chlamydiaceae</td>\n",
       "      <td>Chlamydia/Chlamydophila group</td>\n",
       "      <td>Chlamydia</td>\n",
       "      <td>Chlamydia trachomatis</td>\n",
       "      <td>0</td>\n",
       "      <td>1042519</td>\n",
       "      <td>...</td>\n",
       "      <td>NP_220077.1</td>\n",
       "      <td>15605291</td>\n",
       "      <td>type III secretion system protein YscR</td>\n",
       "      <td>MRLIVRIFFFLCILSAPYSFASTCSAAQGASSCLPCATAPQQELPA...</td>\n",
       "      <td>306</td>\n",
       "      <td>SpaP</td>\n",
       "      <td>3.800000e-65</td>\n",
       "      <td>220.5</td>\n",
       "      <td>13.9</td>\n",
       "      <td>&lt;hmmerclust.hmmerclust.Locus instance at 0x102...</td>\n",
       "    </tr>\n",
       "    <tr>\n",
       "      <th>4</th>\n",
       "      <td>Chlamydia trachomatis D/UW-3/CX</td>\n",
       "      <td>NC_000117</td>\n",
       "      <td>Chlamydiae</td>\n",
       "      <td>Chlamydiales</td>\n",
       "      <td>Chlamydiaceae</td>\n",
       "      <td>Chlamydia/Chlamydophila group</td>\n",
       "      <td>Chlamydia</td>\n",
       "      <td>Chlamydia trachomatis</td>\n",
       "      <td>0</td>\n",
       "      <td>1042519</td>\n",
       "      <td>...</td>\n",
       "      <td>NP_220087.1</td>\n",
       "      <td>15605301</td>\n",
       "      <td>type II secretion system protein GspD</td>\n",
       "      <td>MKNILGYGFLGTFCLGSLTVPSFSITITEKLASLEGKTESLAPFSH...</td>\n",
       "      <td>760</td>\n",
       "      <td>InvG</td>\n",
       "      <td>1.000000e-35</td>\n",
       "      <td>123.8</td>\n",
       "      <td>0.2</td>\n",
       "      <td>&lt;hmmerclust.hmmerclust.Locus instance at 0x102...</td>\n",
       "    </tr>\n",
       "  </tbody>\n",
       "</table>\n",
       "<p>5 rows × 22 columns</p>\n",
       "</div>"
      ],
      "text/plain": [
       "                          org_name    org_acc  org_phylum     org_class  \\\n",
       "0  Chlamydia trachomatis D/UW-3/CX  NC_000117  Chlamydiae  Chlamydiales   \n",
       "1  Chlamydia trachomatis D/UW-3/CX  NC_000117  Chlamydiae  Chlamydiales   \n",
       "2  Chlamydia trachomatis D/UW-3/CX  NC_000117  Chlamydiae  Chlamydiales   \n",
       "3  Chlamydia trachomatis D/UW-3/CX  NC_000117  Chlamydiae  Chlamydiales   \n",
       "4  Chlamydia trachomatis D/UW-3/CX  NC_000117  Chlamydiae  Chlamydiales   \n",
       "\n",
       "       org_order                     org_family  org_genus  \\\n",
       "0  Chlamydiaceae  Chlamydia/Chlamydophila group  Chlamydia   \n",
       "1  Chlamydiaceae  Chlamydia/Chlamydophila group  Chlamydia   \n",
       "2  Chlamydiaceae  Chlamydia/Chlamydophila group  Chlamydia   \n",
       "3  Chlamydiaceae  Chlamydia/Chlamydophila group  Chlamydia   \n",
       "4  Chlamydiaceae  Chlamydia/Chlamydophila group  Chlamydia   \n",
       "\n",
       "             org_species  org_tree_order  org_genome_length  \\\n",
       "0  Chlamydia trachomatis               0            1042519   \n",
       "1  Chlamydia trachomatis               0            1042519   \n",
       "2  Chlamydia trachomatis               0            1042519   \n",
       "3  Chlamydia trachomatis               0            1042519   \n",
       "4  Chlamydia trachomatis               0            1042519   \n",
       "\n",
       "                         ...                             prot_acc   prot_gi  \\\n",
       "0                        ...                          NP_220079.1  15605293   \n",
       "1                        ...                          NP_220236.1  15605450   \n",
       "2                        ...                          NP_220005.1  15605219   \n",
       "3                        ...                          NP_220077.1  15605291   \n",
       "4                        ...                          NP_220087.1  15605301   \n",
       "\n",
       "                             prot_product  \\\n",
       "0  type III secretion system protein YscT   \n",
       "1  type III secretion system ATP synthase   \n",
       "2        transcription termination factor   \n",
       "3  type III secretion system protein YscR   \n",
       "4   type II secretion system protein GspD   \n",
       "\n",
       "                                    prot_translation prot_numb_of_res  \\\n",
       "0  MATLPEVLSGLGSSYIDYIFQKPADYVWTVFLLLAARILSMLSIIP...              289   \n",
       "1  MTHLQEETLLIHQWRPYRECGILSRISGSLLEAQGLSACLGELCQI...              434   \n",
       "2  MKEESPAEVLQKVKEHKRREGPLSLEKEVSEDSAVATEEKETSQPV...              464   \n",
       "3  MRLIVRIFFFLCILSAPYSFASTCSAAQGASSCLPCATAPQQELPA...              306   \n",
       "4  MKNILGYGFLGTFCLGSLTVPSFSITITEKLASLEGKTESLAPFSH...              760   \n",
       "\n",
       "  hit_query    hit_evalue hit_bitscore  hit_bias  \\\n",
       "0      SpaR  4.300000e-36        125.7      24.1   \n",
       "1      InvC  1.400000e-53        182.9       0.1   \n",
       "2      InvC  4.200000e-44        151.8       0.0   \n",
       "3      SpaP  3.800000e-65        220.5      13.9   \n",
       "4      InvG  1.000000e-35        123.8       0.2   \n",
       "\n",
       "                                            locus_id  \n",
       "0  <hmmerclust.hmmerclust.Locus instance at 0x102...  \n",
       "1                                               None  \n",
       "2                                               None  \n",
       "3  <hmmerclust.hmmerclust.Locus instance at 0x102...  \n",
       "4  <hmmerclust.hmmerclust.Locus instance at 0x102...  \n",
       "\n",
       "[5 rows x 22 columns]"
      ]
     },
     "execution_count": 34,
     "metadata": {},
     "output_type": "execute_result"
    }
   ],
   "source": [
    "df.df.head()"
   ]
  },
  {
   "cell_type": "code",
   "execution_count": 36,
   "metadata": {
    "collapsed": false
   },
   "outputs": [
    {
     "data": {
      "text/plain": [
       "org_name                               Chlamydia trachomatis D/UW-3/CX\n",
       "org_acc                                                      NC_000117\n",
       "org_phylum                                                  Chlamydiae\n",
       "org_class                                                 Chlamydiales\n",
       "org_order                                                Chlamydiaceae\n",
       "org_family                               Chlamydia/Chlamydophila group\n",
       "org_genus                                                    Chlamydia\n",
       "org_species                                      Chlamydia trachomatis\n",
       "org_tree_order                                                       0\n",
       "org_genome_length                                              1042519\n",
       "org_prot_count                                                      37\n",
       "org_numb_loci                                                        1\n",
       "prot_acc                                                   NP_220079.1\n",
       "prot_gi                                                       15605293\n",
       "prot_product                    type III secretion system protein YscT\n",
       "prot_translation     MATLPEVLSGLGSSYIDYIFQKPADYVWTVFLLLAARILSMLSIIP...\n",
       "prot_numb_of_res                                                   289\n",
       "hit_query                                                         SpaR\n",
       "hit_evalue                                                     4.3e-36\n",
       "hit_bitscore                                                     125.7\n",
       "hit_bias                                                          24.1\n",
       "locus_id             <hmmerclust.hmmerclust.Locus instance at 0x102...\n",
       "Name: 0, dtype: object"
      ]
     },
     "execution_count": 36,
     "metadata": {},
     "output_type": "execute_result"
    }
   ],
   "source": [
    "df.df.ix[0]"
   ]
  },
  {
   "cell_type": "code",
   "execution_count": 39,
   "metadata": {
    "collapsed": false
   },
   "outputs": [
    {
     "data": {
      "text/plain": [
       "['InvE',\n",
       " 'InvC',\n",
       " 'SpaP',\n",
       " 'SpaQ',\n",
       " 'SpaR',\n",
       " 'SpaS',\n",
       " 'InvA',\n",
       " 'SpaO',\n",
       " 'OrgB',\n",
       " 'OrgA',\n",
       " 'PrgK',\n",
       " 'PrgH',\n",
       " 'InvG',\n",
       " 'InvH',\n",
       " 'FlgH',\n",
       " 'PrgI',\n",
       " 'PrgJ',\n",
       " 'InvJ',\n",
       " 'SipC',\n",
       " 'SipB',\n",
       " 'SipD']"
      ]
     },
     "execution_count": 39,
     "metadata": {},
     "output_type": "execute_result"
    }
   ],
   "source": [
    "settings.hmcol"
   ]
  },
  {
   "cell_type": "code",
   "execution_count": 41,
   "metadata": {
    "collapsed": false
   },
   "outputs": [
    {
     "data": {
      "image/png": "[encoded data removed]",
      "text/plain": [
       "<matplotlib.figure.Figure at 0x101080e50>"
      ]
     },
     "metadata": {},
     "output_type": "display_data"
    }
   ],
   "source": [
    "hm = hmmerclust.HeatMap(df.df, subset=['SpaP'], by_locus=True)"
   ]
  },
  {
   "cell_type": "code",
   "execution_count": 42,
   "metadata": {
    "collapsed": false
   },
   "outputs": [
    {
     "ename": "TypeError",
     "evalue": "unbound method make_heatmap_text() must be called with HeatMap instance as first argument (got DataFrame instance instead)",
     "output_type": "error",
     "traceback": [
      "\u001b[0;31m---------------------------------------------------------------------------\u001b[0m",
      "\u001b[0;31mTypeError\u001b[0m                                 Traceback (most recent call last)",
      "\u001b[0;32m<ipython-input-42-958c6766239e>\u001b[0m in \u001b[0;36m<module>\u001b[0;34m()\u001b[0m\n\u001b[0;32m----> 1\u001b[0;31m \u001b[0mhmmerclust\u001b[0m\u001b[0;34m.\u001b[0m\u001b[0mHeatMap\u001b[0m\u001b[0;34m.\u001b[0m\u001b[0mmake_heatmap_text\u001b[0m\u001b[0;34m(\u001b[0m\u001b[0mhm\u001b[0m\u001b[0;34m.\u001b[0m\u001b[0munstacked_df\u001b[0m\u001b[0;34m)\u001b[0m\u001b[0;34m\u001b[0m\u001b[0m\n\u001b[0m",
      "\u001b[0;31mTypeError\u001b[0m: unbound method make_heatmap_text() must be called with HeatMap instance as first argument (got DataFrame instance instead)"
     ]
    }
   ],
   "source": []
  },
  {
   "cell_type": "code",
   "execution_count": null,
   "metadata": {
    "collapsed": true
   },
   "outputs": [],
   "source": []
  }
 ],
 "metadata": {
  "kernelspec": {
   "display_name": "Python 2",
   "language": "python",
   "name": "python2"
  },
  "language_info": {
   "codemirror_mode": {
    "name": "ipython",
    "version": 2
   },
   "file_extension": ".py",
   "mimetype": "text/x-python",
   "name": "python",
   "nbconvert_exporter": "python",
   "pygments_lexer": "ipython2",
   "version": "2.7.8"
  }
 },
 "nbformat": 4,
 "nbformat_minor": 0
}
