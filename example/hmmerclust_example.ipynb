{
 "cells": [
  {
   "cell_type": "code",
   "execution_count": 7,
   "metadata": {
    "collapsed": false,
    "scrolled": false
   },
   "outputs": [
    {
     "ename": "ZipImportError",
     "evalue": "bad local file header in /Users/matt/.virtualenvs/hmmerclust_dev4/lib/python2.7/site-packages/hmmerclust-0.0.1.dev1-py2.7.egg",
     "output_type": "error",
     "traceback": [
      "\u001b[0;31m---------------------------------------------------------------------------\u001b[0m",
      "\u001b[0;31mZipImportError\u001b[0m                            Traceback (most recent call last)",
      "\u001b[0;32m<ipython-input-7-2534ee324a02>\u001b[0m in \u001b[0;36m<module>\u001b[0;34m()\u001b[0m\n\u001b[1;32m      1\u001b[0m \u001b[0;32mfrom\u001b[0m \u001b[0mhmmerclust\u001b[0m \u001b[0;32mimport\u001b[0m \u001b[0mhmmerclust\u001b[0m\u001b[0;34m\u001b[0m\u001b[0m\n\u001b[1;32m      2\u001b[0m \u001b[0;32mimport\u001b[0m \u001b[0msettings\u001b[0m\u001b[0;34m\u001b[0m\u001b[0m\n\u001b[0;32m----> 3\u001b[0;31m \u001b[0mreload\u001b[0m\u001b[0;34m(\u001b[0m\u001b[0mhmmerclust\u001b[0m\u001b[0;34m)\u001b[0m\u001b[0;34m\u001b[0m\u001b[0m\n\u001b[0m\u001b[1;32m      4\u001b[0m \u001b[0;34m\u001b[0m\u001b[0m\n\u001b[1;32m      5\u001b[0m \u001b[0mgenome_list\u001b[0m \u001b[0;34m=\u001b[0m \u001b[0mget_ipython\u001b[0m\u001b[0;34m(\u001b[0m\u001b[0;34m)\u001b[0m\u001b[0;34m.\u001b[0m\u001b[0mgetoutput\u001b[0m\u001b[0;34m(\u001b[0m\u001b[0;34mu'ls genomes/'\u001b[0m\u001b[0;34m)\u001b[0m\u001b[0;34m\u001b[0m\u001b[0m\n",
      "\u001b[0;31mZipImportError\u001b[0m: bad local file header in /Users/matt/.virtualenvs/hmmerclust_dev4/lib/python2.7/site-packages/hmmerclust-0.0.1.dev1-py2.7.egg"
     ]
    }
   ],
   "source": [
    "from hmmerclust import hmmerclust\n",
    "import settings\n",
    "\n",
    "genome_list = !ls genomes/\n",
    "genome_dir = './genomes/'\n",
    "#combined_fasta = '../150413-full-seach-again/combined.fasta'\n",
    "\n",
    "genome_subset = genome_list[:20]\n",
    "\n",
    "db = hmmerclust.OrganismDB('database', genome_subset, genome_dir, freshfasta=True)"
   ]
  },
  {
   "cell_type": "code",
   "execution_count": 3,
   "metadata": {
    "collapsed": false
   },
   "outputs": [
    {
     "name": "stdout",
     "output_type": "stream",
     "text": [
      "16S_aligned.csv           \u001b[34malignments\u001b[m\u001b[m/               \u001b[34mgenomes\u001b[m\u001b[m/                  settings.py\r\n",
      "__init__.py               combined_fasta            hmmerclust_example.ipynb  settings.pyc\r\n"
     ]
    }
   ],
   "source": [
    "ls"
   ]
  },
  {
   "cell_type": "code",
   "execution_count": 6,
   "metadata": {
    "collapsed": false
   },
   "outputs": [
    {
     "name": "stdout",
     "output_type": "stream",
     "text": [
      "building Hmm for FlgH_PF02107_seed.fasta\n",
      "hhbuild complete for ['FlgH']\n",
      "running HHsearch on FlgH\n",
      "extracted 4 hits for FlgH.out\n",
      "adding proteins to organism NC_000117\n",
      "adding proteins to organism NC_000853\n",
      "adding proteins to organism NC_000854\n",
      "adding proteins to organism NC_000868\n",
      "adding proteins to organism NC_000907\n",
      "adding proteins to organism NC_000908\n",
      "adding proteins to organism NC_000909\n",
      "adding proteins to organism NC_000911\n",
      "adding proteins to organism NC_000912\n",
      "adding proteins to organism NC_000915\n",
      "adding proteins to organism NC_000916\n",
      "adding proteins to organism NC_000917\n",
      "adding proteins to organism NC_000918\n",
      "adding proteins to organism NC_000919\n",
      "adding proteins to organism NC_000922\n",
      "adding proteins to organism NC_000961\n",
      "adding proteins to organism NC_000962\n",
      "adding proteins to organism NC_000963\n",
      "adding proteins to organism NC_000964\n",
      "adding proteins to organism NC_001263\n",
      "adding SearchIO hit objects for NC_000117\n",
      "adding SearchIO hit objects for NC_000853\n",
      "adding SearchIO hit objects for NC_000854\n",
      "adding SearchIO hit objects for NC_000868\n",
      "adding SearchIO hit objects for NC_000907\n",
      "adding SearchIO hit objects for NC_000908\n",
      "adding SearchIO hit objects for NC_000909\n",
      "adding SearchIO hit objects for NC_000911\n",
      "adding SearchIO hit objects for NC_000912\n",
      "adding SearchIO hit objects for NC_000915\n",
      "adding SearchIO hit objects for NC_000916\n",
      "adding SearchIO hit objects for NC_000917\n",
      "adding SearchIO hit objects for NC_000918\n",
      "adding SearchIO hit objects for NC_000919\n",
      "adding SearchIO hit objects for NC_000922\n",
      "adding SearchIO hit objects for NC_000961\n",
      "adding SearchIO hit objects for NC_000962\n",
      "adding SearchIO hit objects for NC_000963\n",
      "adding SearchIO hit objects for NC_000964\n",
      "adding SearchIO hit objects for NC_001263\n",
      "setting best hit values for Chlamydia trachomatis D/UW-3/CX\n",
      "setting best hit values for Thermotoga maritima MSB8\n",
      "setting best hit values for Aeropyrum pernix K1\n",
      "setting best hit values for Pyrococcus abyssi GE5\n",
      "setting best hit values for Haemophilus influenzae Rd KW20\n",
      "setting best hit values for Mycoplasma genitalium G37\n",
      "setting best hit values for Methanocaldococcus jannaschii DSM 2661\n",
      "setting best hit values for Synechocystis sp. PCC 6803\n",
      "setting best hit values for Mycoplasma pneumoniae M129\n",
      "setting best hit values for Helicobacter pylori 26695\n",
      "setting best hit values for Methanothermobacter thermautotrophicus str. Delta H (Methanobacterium thermoautotrophicum str. deltaH)\n",
      "setting best hit values for Archaeoglobus fulgidus DSM 4304\n",
      "setting best hit values for Aquifex aeolicus VF5\n",
      "setting best hit values for Treponema pallidum subsp. pallidum str. Nichols\n",
      "setting best hit values for Chlamydophila pneumoniae CWL029\n",
      "setting best hit values for Pyrococcus horikoshii OT3\n",
      "setting best hit values for Mycobacterium tuberculosis H37Rv\n",
      "setting best hit values for Rickettsia prowazekii str. Madrid E\n",
      "setting best hit values for Bacillus subtilis subsp. subtilis str. 168\n",
      "setting best hit values for Deinococcus radiodurans R1\n"
     ]
    }
   ],
   "source": [
    "combined_fasta = './combined_fasta'\n",
    "s = hmmerclust.HmmSearch(db, combined_fasta, freshbuild=True, freshsearch=True)"
   ]
  },
  {
   "cell_type": "code",
   "execution_count": null,
   "metadata": {
    "collapsed": true
   },
   "outputs": [],
   "source": []
  }
 ],
 "metadata": {
  "kernelspec": {
   "display_name": "Python 2",
   "language": "python",
   "name": "python2"
  },
  "language_info": {
   "codemirror_mode": {
    "name": "ipython",
    "version": 2
   },
   "file_extension": ".py",
   "mimetype": "text/x-python",
   "name": "python",
   "nbconvert_exporter": "python",
   "pygments_lexer": "ipython2",
   "version": "2.7.8"
  }
 },
 "nbformat": 4,
 "nbformat_minor": 0
}
